{
 "cells": [
  {
   "cell_type": "markdown",
   "metadata": {},
   "source": [
    "# Welcome to Amazon Q, your generative AI assistant. \n",
    "\n",
    "[Amazon Q](https://aws.amazon.com/q/aws) is an interactive, generative AI–powered assistant trained on over 17 years’ worth of AWS experience building in the cloud. Amazon Q is an expert in AWS services, best practices, well-architected patterns, and solutions to help you get started faster, learn unfamiliar technologies, build new solutions, and spend less time on undifferentiated work like maintenance. "
   ]
  },
  {
   "cell_type": "markdown",
   "metadata": {},
   "source": [
    "## Introduction\n",
    "\n",
    "This notebook is a tutorial that will introduce you to Amazon Q in your integrated development environment (IDE). You will need the install and configure the AWS Toolkit. If you have not already configured Amazon Q, please read [Set up](https://docs.aws.amazon.com/amazonq/latest/aws-builder-use-ug/q-in-IDE-setup.html) in the Amazon Q User Guide.  "
   ]
  },
  {
   "cell_type": "markdown",
   "metadata": {},
   "source": [
    "## Getting Started\n",
    "\n",
    "Let's jump in and get started by asking Amazon Q to explain some code. The code below should be self-explanatory. However, let's ask Q to explain it anyway. Use your mouse to highlight the code in the cell below. Then, right click on it, and choose **Send to Amazon Q**, followed by **Explain**. Amazon Q will explain the code. When I ran this, Q explained what the code did, explained what a function is, and the purpose of the `def` keyword. Note that you may get a different response. Q, like all generative AI tools, is nondeterministic. This means that you will not always get the same response to a specific question."
   ]
  },
  {
   "cell_type": "code",
   "execution_count": null,
   "metadata": {},
   "outputs": [],
   "source": [
    "def add(a, b):\n",
    "    return a + b"
   ]
  },
  {
   "cell_type": "markdown",
   "metadata": {},
   "source": [
    "### Chatting with Q\n",
    "\n",
    "Excellent. Now that Q has explained existing code, let's use Q to write some new code. In the Q chat window, ask Q the following question. **How do I create a function to subtract two numbers in Python?** Q should respond with a function similar to the one we described previously, but for subtraction. When I ran this, Q explained how the function works, and how to use the function in my code. Q also suggested a few obvious follow-up questions. For example, Q suggested that I might want to ask **What is function scope?**. Feel free to try a few of the suggestions to learn more.  \n",
    "\n",
    "You can probably imagine that Q is great tool when you are learning a new language or framework. However, I often don't want the explanation. I just want Q to help me write code faster. I'll show you how to do that in the next section. Before we move on, I would like to point that Q knows what you are doing in the editor. Therefore, you can ask questions like **What does the highlighted do?** However, this does not work well in a Jupyter Notebook because I can have something highlighted in each cell. Therefore, I left that out of the tutorial. Remember to try it out for yourself in a traditional source code file. "
   ]
  },
  {
   "cell_type": "markdown",
   "metadata": {},
   "source": [
    "### Inline Completions\n",
    "\n",
    "Are you ready to see how Q can help you write code faster. In the cell below, place your cursor to the right of `return a + b` and press enter twice. Amazon Q will suggest a new line of code. Press **Tab** to accept the suggestion. When I ran this, it suggested `def sub(a, b):`. That makes sense, but remember that you may get a different suggestion. For example, Q might suggest `def subtract(a, b):` or `def multiply(a, b):`. Those are both perfectly acceptable. We will discuss how to tell Q what you want it to do later in the section called *prompt engineering*.\n",
    "\n",
    "With your cursor to the right new line that Q just suggested, press **Enter** again. Q should now suggest an implementation  for the new function. Press **Tab** to accept the suggestion. When I ran this, it suggested `return a - b`. Awesome. Note that Q typically creates functions in two steps. The first step defines the function's interface. The second step defines the function's implementation. This allows you to change the assumptions Q made in the interface. For example, I might have wanted to rename the parameters using the mathematically correct terms, minuend and subtrahend, like this `def: sub(minuend, subtrahend)`. Had I done that, Q would use those names in the implementation.\n",
    "\n",
    "Before we move on, I want to call your attention to something that I think is interesting. Remember that I told you to press enter **twice** to create the new function. Why twice? Pythonic code -- Python code that is clean and readable -- should always have a blank line between functions. Amazon Q knows this, so it probably did not suggest anything on the new line after a seemingly complete function. If, however, you want Q to suggest something, you can force a suggestion by pressing `Opt-c` on macOS or `Alt-c` on Windows. If you ever find that Q is not making a suggestion and you want one, force it. \n"
   ]
  },
  {
   "cell_type": "code",
   "execution_count": 1,
   "metadata": {},
   "outputs": [],
   "source": [
    "def add(a, b):\n",
    "    return a + b"
   ]
  },
  {
   "cell_type": "markdown",
   "metadata": {},
   "source": [
    "Amazon Q cannot read your mind. Often, you will need to tell it what you want to do next. Luckily, we can use comments for that. For example, in the previous example, Q suggested a new function called `sub` following the existing function `add`, However, maybe I wanted to create another method that adds three numbers. I could have used a comment to tell Q what I want. In the cell below, place your cursor to the right of `# Return the sum of three numbers` and press **Enter***. Q should suggest something similar to `def add(a, b, c):`. You know what to do from here, right? Press **Tab** to accept the suggestion.  Then press **Enter** and Q will suggest an implementation similar to `return a + b + c`. Comments are a form of prompt engineering. In the next section, I will discuss other ways to use prompt engineering to help Amazon Q understand your intent.  "
   ]
  },
  {
   "cell_type": "code",
   "execution_count": null,
   "metadata": {},
   "outputs": [],
   "source": [
    "# Return the sum of two numbers\n",
    "def add(a, b):\n",
    "    return a + b\n",
    "\n",
    "# Return the sum of three numbers"
   ]
  },
  {
   "cell_type": "markdown",
   "metadata": {},
   "source": [
    "## Prompt Engineering\n",
    "\n",
    "Prompt engineering is the process where you guide generative artificial intelligence (generative AI) solutions to generate desired outputs. Even though generative AI attempts to mimic humans, it requires detailed instructions to create high-quality and relevant output. In prompt engineering, you choose the most appropriate formats, phrases, words, and symbols that guide the AI to interact with your users more meaningfully. Prompt engineers use creativity plus trial and error to create a collection of input texts, so an application's generative AI works as expected.\n",
    "\n",
    "We have already seen how comments can help Q understand your intent. Over time, I have found myself writing more descriptive comments to get the results I want. Of course, that has the excellent side effect of making my code more readable. Try the example below. I assume at this point that you don't need me to tell you to press **Enter** followed by **Tab**. You got this!"
   ]
  },
  {
   "cell_type": "code",
   "execution_count": null,
   "metadata": {},
   "outputs": [],
   "source": [
    "# Function that accepts a numerator and denominator and returns the resulting fraction with a check for divide by zero."
   ]
  },
  {
   "cell_type": "markdown",
   "metadata": {},
   "source": [
    "### Multiline comments\n",
    "\n",
    "Amazon Q understands that the comment describes functionality that does not exist and assumes that you want it to help implement the code. While that comment was fairly long and descriptive, you are not limited to a single line. You can include multiline comments that explain multiple steps you want to implement at once. Use Amazon Q to complete the example below. "
   ]
  },
  {
   "cell_type": "code",
   "execution_count": null,
   "metadata": {},
   "outputs": [],
   "source": [
    "# First, generate a random number between 0 and 1. \n",
    "# Then, if the number is greater than 0.5 return \"heads\" \n",
    "# Otherwise, return \"tails\"\n",
    "def flip_a_coin():"
   ]
  },
  {
   "cell_type": "markdown",
   "metadata": {},
   "source": [
    "### Imports\n",
    "Q probably used `random.random()` in the previous function. You may have noticed that Q also added `import random`. Q will add the packages it needs, but sometimes I want Q to use a specific package. For example, there are a lot of packages for database access. Personally, I prefer SQL Alchemy when I am using Python. But, of course, Q does not know that I like SQL Alchemy. A simple way to tell Q which packages I want to use is to import them. For example, use Q to to complete the following two cells. Note that the comments are identical. However, you will get a different suggestion based on the packages you have imported. If you don't have numpy installed, don't worry about it. You do not need to run the code. "
   ]
  },
  {
   "cell_type": "code",
   "execution_count": null,
   "metadata": {},
   "outputs": [],
   "source": [
    "import random\n",
    "# set x to a random integer between 1 and 10"
   ]
  },
  {
   "cell_type": "code",
   "execution_count": null,
   "metadata": {},
   "outputs": [],
   "source": [
    "import numpy\n",
    "# set x to a random integer between 1 and 10"
   ]
  },
  {
   "cell_type": "markdown",
   "metadata": {},
   "source": [
    "### Existing code\n",
    "I would like to cover one more example before we move on. We all have a specific style when we write code. In addition, your organization may have documented coding standards they want you to follow. Of course, Q does not know this. You need to tell Q how you want it to write code. For example, assume that our coding standards require **Type Hints** and **Docstrings**. You have probably noticed that Q has not included either of those in previous examples. However, if you tell Q what good looks like, Q will follow your lead. Use Q to complete the example below. Note that I used the same prompt earlier, but Q now has an example of my style to mimic.  "
   ]
  },
  {
   "cell_type": "code",
   "execution_count": null,
   "metadata": {},
   "outputs": [],
   "source": [
    "# Function to add two numbers \n",
    "def add(a: int, b: int) -> int:\n",
    "    \"\"\"\n",
    "    Adds two numbers and returns the result.\n",
    " \n",
    "    Args:\n",
    "        a (int): The first term.\n",
    "        b (int): The second term.\n",
    " \n",
    "    Returns:\n",
    "        int: The sum of a and b.\n",
    "    \"\"\"\n",
    "    return a + b\n",
    "\n",
    "# Function to subtract two numbers"
   ]
  },
  {
   "cell_type": "markdown",
   "metadata": {},
   "source": [
    "Generally speaking, you are going to get better results if you give Q more context. Verbose comments, combined with imports and examples of prior code, all help Q understand your intent. Of course, when you are just starting out on a new project, you may not have prior examples. You can compensate by providing that context in the comment, until your project takes shape. For example, try the prompt.  "
   ]
  },
  {
   "cell_type": "code",
   "execution_count": null,
   "metadata": {},
   "outputs": [],
   "source": [
    "# Function to add two numbers with typehints and docstrings"
   ]
  },
  {
   "cell_type": "markdown",
   "metadata": {},
   "source": [
    "## But wait, there's more\n",
    "Hopefully you are starting to see how Q can help you learn new skills and write code faster.  We cannot cover everything in the short tutorial. However, there are a few other things I want you to know. Let's try a few of them now.\n",
    "\n",
    "### Refactoring \n",
    "\n",
    "As code is added over time to a project, I often find redundant code that could be simplified. For example, the cell below contains a few very similar add methods that take different numbers of parameters. Highlight all three functions, right click, choose **Send to Amazon Q** and **Refactor**. Q will offer a few alternatives to simplify and combine these three functions. This is just one example of refactoring. Using refactor and simplify are a great way to learn new tips and tricks."
   ]
  },
  {
   "cell_type": "code",
   "execution_count": null,
   "metadata": {},
   "outputs": [],
   "source": [
    "def add(a, b):\n",
    "    return a + b\n",
    "\n",
    "def add(a, b, c):\n",
    "    return a + b + c\n",
    "\n",
    "def add(a, b, c, d):\n",
    "    return a + b + c + d"
   ]
  },
  {
   "cell_type": "markdown",
   "metadata": {},
   "source": [
    "### Fixing bugs\n",
    "\n",
    "Amazon Q can help you fix issues in your code. For example, the following code is not working. Let's ask Q to help us fix it. Highlight all of the code in the cell below. Then, right click on it, and choose **Send to Amazon Q**, followed by **Fix**."
   ]
  },
  {
   "cell_type": "code",
   "execution_count": null,
   "metadata": {},
   "outputs": [],
   "source": [
    "a = 1\n",
    "b = 2\n",
    "print(a + \"+\" + b + \"=\" a + b)"
   ]
  },
  {
   "cell_type": "markdown",
   "metadata": {},
   "source": [
    "### Writing tests\n",
    "\n",
    "We all know that writing unit tests is important. However, most of us find it tedious. Amazon Q can help. Highlight all of the code in the cell below. Then, right click on it, and choose **Send to Amazon Q**, followed by **Send to prompt**. This will copy the code into the chat, allowing you to ask a question about it. Ask Q to **Create a unit test for this function**. Amazon Q should provide you step by step instructions to create the test. \n"
   ]
  },
  {
   "cell_type": "code",
   "execution_count": null,
   "metadata": {},
   "outputs": [],
   "source": [
    "def add(a, b):\n",
    "    return a + b"
   ]
  },
  {
   "cell_type": "markdown",
   "metadata": {},
   "source": [
    "## Conclusion\n",
    "\n",
    "I hope that this tutorial has helped you learn how to use Amazon Q. We have only covered a small fraction of the things you can do with Q in the IDE. And, of course, you can use Q in the [AWS Console](https://docs.aws.amazon.com/amazonq/latest/aws-builder-use-ug/chat-with-q.html), [Amazon CodeCatalyst](https://docs.aws.amazon.com/codecatalyst/latest/userguide/getting-started-project-assistance.html), [Amazon QuickSight](https://docs.aws.amazon.com/quicksight/latest/user/working-with-quicksight-q.html), etc. You can read more in the [Amazon Q User's Guide](https://docs.aws.amazon.com/amazonq/latest/aws-builder-use-ug/what-is.html); but, of course, you can also just chat with Q learn more about Q! I hope that you are excited as I am about this new technology."
   ]
  }
 ],
 "metadata": {
  "kernelspec": {
   "display_name": ".venv",
   "language": "python",
   "name": "python3"
  },
  "language_info": {
   "codemirror_mode": {
    "name": "ipython",
    "version": 3
   },
   "file_extension": ".py",
   "mimetype": "text/x-python",
   "name": "python",
   "nbconvert_exporter": "python",
   "pygments_lexer": "ipython3",
   "version": "3.12.1"
  }
 },
 "nbformat": 4,
 "nbformat_minor": 2
}
